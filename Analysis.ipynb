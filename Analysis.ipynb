{
 "cells": [
  {
   "cell_type": "code",
   "execution_count": null,
   "id": "65a4009c-8cac-41fd-b51a-6e6d55ba06d4",
   "metadata": {},
   "outputs": [],
   "source": [
    "import pandas as pd\n",
    "import numpy as np\n",
    "import matplotlib.pyplot as plt\n",
    "import seaborn as sns"
   ]
  },
  {
   "cell_type": "code",
   "execution_count": null,
   "id": "048f3b16-9786-45cb-8cef-40cbe884b0d3",
   "metadata": {},
   "outputs": [],
   "source": [
    "df= pd.read_csv('StressLevelDataset.csv')\n",
    "df.head()"
   ]
  },
  {
   "cell_type": "code",
   "execution_count": null,
   "id": "8f1c3c74-c646-4ada-a12f-6ab83a09e8c6",
   "metadata": {},
   "outputs": [],
   "source": [
    "print(\"Shape:\", df.shape)\n",
    "print(\"Column Names:\", df.columns.tolist())"
   ]
  },
  {
   "cell_type": "code",
   "execution_count": null,
   "id": "97787b7f-cd3f-45e7-8b73-593cb687624a",
   "metadata": {},
   "outputs": [],
   "source": [
    "print(df.info())"
   ]
  },
  {
   "cell_type": "code",
   "execution_count": null,
   "id": "704318fb-1359-4ee7-b078-6a3e02d0f4c3",
   "metadata": {},
   "outputs": [],
   "source": [
    "df.describe()"
   ]
  },
  {
   "cell_type": "code",
   "execution_count": null,
   "id": "78089150-3055-4f84-9f9f-3b033433007f",
   "metadata": {},
   "outputs": [],
   "source": [
    "# Map target values\n",
    "stress_map = {0: \"Low\", 1: \"Medium\", 2: \"High\"}\n",
    "df[\"stress_level_label\"] = df[\"stress_level\"].map(stress_map)"
   ]
  },
  {
   "cell_type": "code",
   "execution_count": null,
   "id": "86357de9-2174-4f30-9997-8b984293a383",
   "metadata": {},
   "outputs": [],
   "source": [
    "df.isnull().sum()"
   ]
  },
  {
   "cell_type": "code",
   "execution_count": null,
   "id": "d3335f92-0fc3-4cf8-b5de-37f8896900ec",
   "metadata": {},
   "outputs": [],
   "source": [
    "df['stress_level'].unique() #this is our target column"
   ]
  },
  {
   "cell_type": "code",
   "execution_count": null,
   "id": "87433853-3ffc-4c8f-8980-603d2973efe3",
   "metadata": {},
   "outputs": [],
   "source": [
    "#DESCRIPTIVE ANALYSIS"
   ]
  },
  {
   "cell_type": "code",
   "execution_count": null,
   "id": "c6df0561-09d8-487a-878e-268f3264121c",
   "metadata": {},
   "outputs": [],
   "source": [
    "plt.figure(figsize=(8, 6))\n",
    "\n",
    "sns.countplot(x='stress_level',hue='stress_level', data=df, palette='coolwarm')\n",
    "\n",
    "plt.title('Stress Level (0 = Normal, 1 = Eustress, 2= Distress)')\n",
    "plt.xlabel('Stress Type')\n",
    "plt.ylabel('Count')\n",
    "plt.xticks([0, 1, 2], ['Normal', 'Eustress', 'Distress'])\n",
    "\n",
    "for p in plt.gca().patches:\n",
    "    count = int(p.get_height())\n",
    "    x = p.get_x() + p.get_width() / 2\n",
    "    y = p.get_height() / 2\n",
    "    plt.text(x, y, str(count), ha='center', va='center', color='black', fontsize=12, fontweight='bold')\n",
    "\n",
    "plt.show()"
   ]
  },
  {
   "cell_type": "code",
   "execution_count": null,
   "id": "a28d5442-6f29-4af8-9dff-f785c7fd1ce5",
   "metadata": {},
   "outputs": [],
   "source": [
    "#CORRELATION MATRIX\n",
    "corr_matrix = df.corr()\n",
    "plt.figure(figsize=(15,15))\n",
    "sns.heatmap(corr_matrix, annot=True, cmap='coolwarm')\n",
    "plt.title('Features Correlation')\n",
    "plt.show()"
   ]
  },
  {
   "cell_type": "code",
   "execution_count": null,
   "id": "ecec8f93-25bb-4730-a153-45ba5f2fd43e",
   "metadata": {},
   "outputs": [],
   "source": [
    "df.columns"
   ]
  },
  {
   "cell_type": "code",
   "execution_count": null,
   "id": "743d1ae6-068d-4725-88e7-f1c229a5cc77",
   "metadata": {},
   "outputs": [],
   "source": [
    "target_corr = corr_matrix['stress_level']\n",
    "\n",
    "selected_features = target_corr[(target_corr) >= 0.55].index.tolist()\n",
    "\n",
    "print(\"Features with Strong Correlation:\")\n",
    "print(selected_features)"
   ]
  },
  {
   "cell_type": "code",
   "execution_count": null,
   "id": "239f7cfd-dc8e-4b1e-a4ca-ee32f337b367",
   "metadata": {},
   "outputs": [],
   "source": [
    "features_to_plot = [\n",
    "    'anxiety_level', 'mental_health_history', 'depression', 'headache', 'breathing_problem', 'noise_level', \n",
    "    'study_load', 'future_career_concerns', 'peer_pressure', 'extracurricular_activities', 'bullying', 'stress_level'\n",
    "]\n",
    "\n",
    "import warnings\n",
    "warnings.filterwarnings('ignore')\n",
    "\n",
    "plt.figure(figsize=(18, 16))  # perbesar figurenya untuk subplot 4x3\n",
    "for i, feature in enumerate(features_to_plot):\n",
    "    plt.subplot(4, 3, i + 1)  # 4 baris x 3 kolom = 12 subplot\n",
    "    sns.histplot(data=df, x=feature, hue='stress_level', kde=True, palette='coolwarm')\n",
    "    plt.title(f'Distribution of {feature}')\n",
    "    plt.xlabel('')\n",
    "    plt.ylabel('')\n",
    "\n",
    "plt.tight_layout()\n",
    "plt.show()"
   ]
  },
  {
   "cell_type": "code",
   "execution_count": null,
   "id": "9b2dec2a-e286-4ec6-8fe3-9a234b4b5cdb",
   "metadata": {},
   "outputs": [],
   "source": [
    "#OUTLIER CHECKING\n",
    "plt.figure(figsize=(18, 16))  \n",
    "for i, feature in enumerate(features_to_plot):\n",
    "    plt.subplot(4, 3, i + 1) \n",
    "    sns.boxplot(data=df, hue='stress_level', x='stress_level', y=feature, palette='coolwarm')\n",
    "    plt.title(f'Outlier Check: {feature}')\n",
    "    plt.xlabel('')\n",
    "    plt.ylabel('')\n",
    "\n",
    "plt.tight_layout()\n",
    "plt.show()"
   ]
  },
  {
   "cell_type": "code",
   "execution_count": null,
   "id": "a713adcb-a137-40a1-87ae-708c3defad45",
   "metadata": {},
   "outputs": [],
   "source": [
    "df_ML = df.copy()\n",
    "df_ML.sample(5)"
   ]
  },
  {
   "cell_type": "code",
   "execution_count": null,
   "id": "5e88a7a2-a844-408a-8b66-7ddbe11551e5",
   "metadata": {},
   "outputs": [],
   "source": [
    "from sklearn.ensemble import RandomForestClassifier\n",
    "from sklearn.linear_model import LogisticRegression\n",
    "from sklearn.metrics import accuracy_score, f1_score, roc_auc_score, confusion_matrix, ConfusionMatrixDisplay\n",
    "from sklearn.model_selection import train_test_split\n",
    "from sklearn.preprocessing import StandardScaler \n",
    "from xgboost import XGBClassifier\n",
    "from sklearn.svm import SVC\n",
    "from sklearn.ensemble import GradientBoostingClassifier, AdaBoostClassifier\n",
    "from sklearn.neighbors import KNeighborsClassifier"
   ]
  },
  {
   "cell_type": "code",
   "execution_count": null,
   "id": "8e0a2c20-0bed-4cc0-b467-3048e77c12b1",
   "metadata": {},
   "outputs": [],
   "source": [
    "X= df_ML.drop('stress_level', axis=1)\n",
    "y= df_ML['stress_level']\n",
    "\n",
    "print(\"Feature (X) dimension: \", X.shape)\n",
    "print(\"Feature (y) dimension: \", y.shape)"
   ]
  },
  {
   "cell_type": "code",
   "execution_count": null,
   "id": "34a15f86-07af-4dc2-be79-6eeac2b88042",
   "metadata": {},
   "outputs": [],
   "source": [
    "X_train, X_test, y_train, y_test = train_test_split(X, y, test_size=0.20, random_state=42, stratify=y)\n",
    "\n",
    "print(f\"Training Set Size: {X_train.shape[0]}\")\n",
    "print(f\"Test Set Size: {X_test.shape[0]}\")"
   ]
  },
  {
   "cell_type": "code",
   "execution_count": null,
   "id": "f4d9c5a5-45ac-49a3-a5c5-99a2ad70f923",
   "metadata": {},
   "outputs": [],
   "source": [
    "#MODELING"
   ]
  },
  {
   "cell_type": "code",
   "execution_count": null,
   "id": "7e04e5cf-bacc-48e0-a71c-3db78149cc6c",
   "metadata": {},
   "outputs": [],
   "source": [
    "selected_features = [\n",
    "    'anxiety_level', 'mental_health_history', 'depression', 'headache', 'breathing_problem', 'noise_level', \n",
    "    'study_load', 'future_career_concerns', 'peer_pressure', 'extracurricular_activities', 'bullying'\n",
    "]\n",
    "\n",
    "scaler = StandardScaler()\n",
    "X_train[selected_features] = scaler.fit_transform(X_train[selected_features])\n",
    "X_test[selected_features] = scaler.transform(X_test[selected_features])"
   ]
  },
  {
   "cell_type": "code",
   "execution_count": null,
   "id": "e5f66f44-2b18-4a5e-9fa3-4623e895167f",
   "metadata": {},
   "outputs": [],
   "source": [
    "models = {\n",
    "    'Logistic Regression': LogisticRegression(random_state=42, solver='liblinear'), \n",
    "    'Random Forest': RandomForestClassifier(random_state=42, n_estimators=100), \n",
    "    'XGBoost': XGBClassifier(random_state=42, eval_metric='logloss'),\n",
    "    'SVM': SVC(random_state=42, probability=True, kernel='rbf'),\n",
    "    'Gradient Boosting': GradientBoostingClassifier(random_state=42, n_estimators=100),\n",
    "    'KNN': KNeighborsClassifier(n_neighbors=5),\n",
    "    'AdaBoost': AdaBoostClassifier(random_state=42, n_estimators=100)\n",
    "}"
   ]
  },
  {
   "cell_type": "code",
   "execution_count": null,
   "id": "a53f0a98-8367-460b-a8f3-7e83c1473e97",
   "metadata": {},
   "outputs": [],
   "source": [
    "trained_models = {}\n",
    "\n",
    "for name, model in models.items():\n",
    "    print(f\"[{name}] The model is being trained...\")\n",
    "    model.fit(X_train, y_train)\n",
    "    trained_models[name] = model\n",
    "    print(f\"[{name}] model training is completed.\")\n",
    "    print()\n",
    "\n",
    "print(\"\\nAll models were trained successfully.\")"
   ]
  },
  {
   "cell_type": "code",
   "execution_count": null,
   "id": "525a80ad-52fe-4790-81bd-8358a1ae2e94",
   "metadata": {},
   "outputs": [],
   "source": [
    "#EVALUATION MODEL"
   ]
  },
  {
   "cell_type": "code",
   "execution_count": null,
   "id": "edd2ab7b-eb02-4d5e-81d9-1081cc46a6d1",
   "metadata": {},
   "outputs": [],
   "source": [
    "results = {}\n",
    "\n",
    "for name, model in trained_models.items():\n",
    "    print(f\"\\n--- {name} Evaluating the Model ---\")\n",
    "\n",
    "    y_pred = model.predict(X_test)\n",
    "    y_proba = model.predict_proba(X_test)\n",
    "\n",
    "    accuracy = accuracy_score(y_test, y_pred)\n",
    "    f1 = f1_score(y_test, y_pred, average='macro')  # 'weighted' / micro\n",
    "    roc_auc = roc_auc_score(y_test, y_proba, multi_class='ovr')\n",
    "    cm = confusion_matrix(y_test, y_pred)\n",
    "\n",
    "    results[name] = {\n",
    "        'Accuracy': accuracy,\n",
    "        'F1 Score': f1,\n",
    "        'ROC-AUC': roc_auc,\n",
    "        'Confusion Matrix': cm\n",
    "    }\n",
    "    print(f\"Accuracy: {accuracy:.4f}\")\n",
    "    print(f\"F1 Score: {f1:.4f}\")\n",
    "    print(f\"ROC-AUC: {roc_auc:.4f}\")\n",
    "    print(\"Confusion Matrix:\\n\", cm)\n",
    "\n",
    "    plt.figure(figsize=(6, 5))\n",
    "    disp = ConfusionMatrixDisplay(confusion_matrix=cm, display_labels=['No Stress', 'Normal Stress', 'High Stress'])\n",
    "    disp.plot(cmap='Blues', values_format='d')\n",
    "    plt.title(f'{name} Confusion Matrix')\n",
    "    plt.show()"
   ]
  },
  {
   "cell_type": "code",
   "execution_count": null,
   "id": "3d16c1f3-14da-4f00-982f-266dd4769817",
   "metadata": {},
   "outputs": [],
   "source": [
    "#BAR PLOT MODEL"
   ]
  },
  {
   "cell_type": "code",
   "execution_count": null,
   "id": "71bcbca9-01a6-42db-8373-93f04397430e",
   "metadata": {},
   "outputs": [],
   "source": [
    "# Convert results dict to DataFrame\n",
    "metrics_df = pd.DataFrame(results).T[['Accuracy', 'F1 Score', 'ROC-AUC']]\n",
    "metrics_df = metrics_df.sort_values('ROC-AUC', ascending=False)"
   ]
  },
  {
   "cell_type": "code",
   "execution_count": null,
   "id": "5bbb2e24-a658-4bc9-adf0-aeea3458986f",
   "metadata": {},
   "outputs": [],
   "source": [
    "metrics_df.plot(kind='bar', figsize=(10, 6), colormap='Set1')\n",
    "plt.title(\"Model Comparison: Accuracy, F1 Score, ROC-AUC\")\n",
    "plt.ylabel(\"Score\")\n",
    "plt.ylim(0.7, 1.05)\n",
    "plt.xticks(rotation=45)\n",
    "plt.legend(loc='lower right')\n",
    "plt.grid(axis='y', linestyle='--', alpha=0.7)\n",
    "plt.tight_layout()\n",
    "plt.show()"
   ]
  },
  {
   "cell_type": "code",
   "execution_count": null,
   "id": "f9830094-e72c-4c06-b658-049f1bc49d90",
   "metadata": {},
   "outputs": [],
   "source": []
  }
 ],
 "metadata": {
  "kernelspec": {
   "display_name": "Python [conda env:base] *",
   "language": "python",
   "name": "conda-base-py"
  },
  "language_info": {
   "codemirror_mode": {
    "name": "ipython",
    "version": 3
   },
   "file_extension": ".py",
   "mimetype": "text/x-python",
   "name": "python",
   "nbconvert_exporter": "python",
   "pygments_lexer": "ipython3",
   "version": "3.12.7"
  }
 },
 "nbformat": 4,
 "nbformat_minor": 5
}
